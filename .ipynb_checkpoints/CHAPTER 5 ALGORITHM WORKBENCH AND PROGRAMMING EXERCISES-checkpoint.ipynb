{
 "cells": [
  {
   "cell_type": "markdown",
   "id": "ff9a5e09",
   "metadata": {},
   "source": [
    "# ALGORITHM WORKBENCH"
   ]
  },
  {
   "cell_type": "markdown",
   "id": "56523152",
   "metadata": {},
   "source": [
    "###### QUESTION 1"
   ]
  },
  {
   "cell_type": "code",
   "execution_count": 1,
   "id": "5f3553a6",
   "metadata": {},
   "outputs": [],
   "source": [
    "# WRITE A FUNCTION NAMED times_ten. \n",
    "# THE FUNCTION SHOULD ACCEPT AN ARGUMENT AND DISPLAY THE PRODUCT OF ITS ARGUMENT MULTIPLIED TIME 10"
   ]
  },
  {
   "cell_type": "code",
   "execution_count": 2,
   "id": "b08e6c2e",
   "metadata": {},
   "outputs": [],
   "source": [
    "# This program demonstrates an argument being passed to a function\n",
    "# The times_ten function accepts an argument and displays the value times 10\n",
    "# Call to the main function."
   ]
  },
  {
   "cell_type": "code",
   "execution_count": 4,
   "id": "85103957",
   "metadata": {},
   "outputs": [],
   "source": [
    "def main():\n",
    "    # user enter a number\n",
    "    value = int(input('Enter a number: '))\n",
    "    times_ten(value)"
   ]
  },
  {
   "cell_type": "code",
   "execution_count": 5,
   "id": "47b87f8f",
   "metadata": {},
   "outputs": [
    {
     "ename": "NameError",
     "evalue": "name 'value' is not defined",
     "output_type": "error",
     "traceback": [
      "\u001b[1;31m---------------------------------------------------------------------------\u001b[0m",
      "\u001b[1;31mNameError\u001b[0m                                 Traceback (most recent call last)",
      "Cell \u001b[1;32mIn[5], line 2\u001b[0m\n\u001b[0;32m      1\u001b[0m \u001b[38;5;66;03m# The times_ten function accepts an argument and displays the value times 10\u001b[39;00m\n\u001b[1;32m----> 2\u001b[0m product \u001b[38;5;241m=\u001b[39m value \u001b[38;5;241m*\u001b[39m \u001b[38;5;241m10\u001b[39m\n",
      "\u001b[1;31mNameError\u001b[0m: name 'value' is not defined"
     ]
    }
   ],
   "source": [
    "# The times_ten function accepts an argument and displays the value times 10\n",
    "product = value * 10"
   ]
  },
  {
   "cell_type": "code",
   "execution_count": null,
   "id": "8117ef2f",
   "metadata": {},
   "outputs": [],
   "source": []
  }
 ],
 "metadata": {
  "kernelspec": {
   "display_name": "Python 3 (ipykernel)",
   "language": "python",
   "name": "python3"
  },
  "language_info": {
   "codemirror_mode": {
    "name": "ipython",
    "version": 3
   },
   "file_extension": ".py",
   "mimetype": "text/x-python",
   "name": "python",
   "nbconvert_exporter": "python",
   "pygments_lexer": "ipython3",
   "version": "3.11.4"
  }
 },
 "nbformat": 4,
 "nbformat_minor": 5
}
