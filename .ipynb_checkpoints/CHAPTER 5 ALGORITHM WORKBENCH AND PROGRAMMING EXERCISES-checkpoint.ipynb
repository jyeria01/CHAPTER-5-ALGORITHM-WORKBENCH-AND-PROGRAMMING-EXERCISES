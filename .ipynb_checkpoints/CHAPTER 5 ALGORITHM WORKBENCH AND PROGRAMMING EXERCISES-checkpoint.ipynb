{
 "cells": [
  {
   "cell_type": "markdown",
   "id": "0ca9bb14",
   "metadata": {},
   "source": [
    "# ALGORITHM WORKBENCH"
   ]
  },
  {
   "cell_type": "markdown",
   "id": "e1c817eb",
   "metadata": {},
   "source": [
    "###### QUESTION 1"
   ]
  },
  {
   "cell_type": "code",
   "execution_count": 1,
   "id": "9e035b73",
   "metadata": {},
   "outputs": [],
   "source": [
    "# WRITE A FUNCTION NAMED times_ten. \n",
    "# THE FUNCTION SHOULD ACCEPT AN ARGUMENT AND DISPLAY THE PRODUCT OF ITS ARGUMENT MULTIPLIED TIME 10"
   ]
  },
  {
   "cell_type": "code",
   "execution_count": 2,
   "id": "5ce1d31a",
   "metadata": {},
   "outputs": [],
   "source": [
    "# This program demonstrates an argument being passed to a function\n",
    "# The times_ten function accepts an argument and displays the value times 10\n",
    "# Call to the main function."
   ]
  },
  {
   "cell_type": "code",
   "execution_count": 3,
   "id": "70a0316d",
   "metadata": {},
   "outputs": [
    {
     "name": "stdout",
     "output_type": "stream",
     "text": [
      "Enter a number: 250\n",
      "Here is your number (250) multiplied by ten: 2500\n"
     ]
    }
   ],
   "source": [
    "# user enters a number to be multiplied by ten\n",
    "def main():\n",
    "    value = int(input('Enter a number: '))\n",
    "    times_ten(value)\n",
    "    \n",
    "# The times_ten function accepts an argument and displays the value times 10\n",
    "def times_ten(number):\n",
    "    value = number * 10\n",
    "    print(f'Here is your number ({number}) multiplied by ten: {value}')\n",
    "main()"
   ]
  },
  {
   "cell_type": "markdown",
   "id": "963abcda",
   "metadata": {},
   "source": [
    "# ALGORITHM WORKBENCH"
   ]
  },
  {
   "cell_type": "markdown",
   "id": "dccd2c1e",
   "metadata": {},
   "source": [
    "###### QUESTION 4"
   ]
  },
  {
   "cell_type": "code",
   "execution_count": 4,
   "id": "02ee2f6c",
   "metadata": {},
   "outputs": [],
   "source": [
    "# WHAT WILL THE FOLLOWING PROGRAM DISPLAY?\n",
    "# ENTERING THE PROGRAM CODE TO SEE WHAT IT WILL DISPLAY"
   ]
  },
  {
   "cell_type": "code",
   "execution_count": 5,
   "id": "f964c4b4",
   "metadata": {},
   "outputs": [],
   "source": [
    "# This program demonstrates what happens when you change the value of a parameter"
   ]
  },
  {
   "cell_type": "code",
   "execution_count": 6,
   "id": "f4234ae7",
   "metadata": {},
   "outputs": [
    {
     "name": "stdout",
     "output_type": "stream",
     "text": [
      "The value is (1, 3.4).\n",
      "I am changine the value.\n",
      "Now the value is (0, 0).\n",
      "Back in main the value is (1, 3.4).\n"
     ]
    }
   ],
   "source": [
    "def main():\n",
    "    x = 1\n",
    "    y = 3.4\n",
    "    print(f'The value is {x, y}.')\n",
    "    change_us(x, y)\n",
    "    print(f'Back in main the value is {x, y}.')\n",
    "def change_us(a, b):\n",
    "    print('I am changine the value.')\n",
    "    a = 0\n",
    "    b = 0\n",
    "    print(f'Now the value is {a, b}.')\n",
    "main()"
   ]
  },
  {
   "cell_type": "markdown",
   "id": "e7f1c026",
   "metadata": {},
   "source": [
    "# PROGRAMMING EXERCISE 1 - KILOMETER CONVERTER\n",
    "###### Write a program that asks the user to enter a distance in kilometers, then converts that distance to miles."
   ]
  },
  {
   "cell_type": "code",
   "execution_count": 8,
   "id": "0186571a",
   "metadata": {},
   "outputs": [],
   "source": [
    "# Ask the user to to enter the distance in kilometers\n",
    "# convert kilometers to miles using the conversion formula - miles = kilomters x 0.6214\n",
    "# Display the results"
   ]
  },
  {
   "cell_type": "code",
   "execution_count": 3,
   "id": "02ed267f",
   "metadata": {},
   "outputs": [],
   "source": [
    "# Ask the user to enter the distance in kilomters\n",
    "def main():\n",
    "    kilometers = float(input('Enter the distance in kilometers: '))\n",
    "    kilometers_to_miles(kilometers)"
   ]
  },
  {
   "cell_type": "code",
   "execution_count": 4,
   "id": "9032ec06",
   "metadata": {},
   "outputs": [],
   "source": [
    "# convert kilometers to miles using the conversion formula - miles = kilomters x 0.6214\n",
    "def kilometers_to_miles(distance_in_kilometers):\n",
    "    miles = distance_in_kilometers * 0.6214\n",
    "    print('Entered distance in miles is', (miles, '.2f'), 'miles')"
   ]
  },
  {
   "cell_type": "code",
   "execution_count": 5,
   "id": "2cc6af27",
   "metadata": {},
   "outputs": [
    {
     "name": "stdout",
     "output_type": "stream",
     "text": [
      "Enter the distance in kilometers: 50\n",
      "Entered distance in miles is (31.069999999999997, '.2f') miles\n"
     ]
    }
   ],
   "source": [
    "main()"
   ]
  },
  {
   "cell_type": "code",
   "execution_count": null,
   "id": "90eae80f",
   "metadata": {},
   "outputs": [],
   "source": []
  }
 ],
 "metadata": {
  "kernelspec": {
   "display_name": "Python 3 (ipykernel)",
   "language": "python",
   "name": "python3"
  },
  "language_info": {
   "codemirror_mode": {
    "name": "ipython",
    "version": 3
   },
   "file_extension": ".py",
   "mimetype": "text/x-python",
   "name": "python",
   "nbconvert_exporter": "python",
   "pygments_lexer": "ipython3",
   "version": "3.11.4"
  }
 },
 "nbformat": 4,
 "nbformat_minor": 5
}
