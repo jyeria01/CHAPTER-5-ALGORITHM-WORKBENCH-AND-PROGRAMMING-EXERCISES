{
 "cells": [
  {
   "cell_type": "markdown",
   "id": "70977199",
   "metadata": {},
   "source": [
    "# ALGORITHM WORKBENCH"
   ]
  },
  {
   "cell_type": "markdown",
   "id": "a8190967",
   "metadata": {},
   "source": [
    "###### QUESTION 1"
   ]
  },
  {
   "cell_type": "code",
   "execution_count": 1,
   "id": "28d6ced1",
   "metadata": {},
   "outputs": [],
   "source": [
    "# WRITE A FUNCTION NAMED times_ten. \n",
    "# THE FUNCTION SHOULD ACCEPT AN ARGUMENT AND DISPLAY THE PRODUCT OF ITS ARGUMENT MULTIPLIED TIME 10"
   ]
  },
  {
   "cell_type": "code",
   "execution_count": 2,
   "id": "d0970a48",
   "metadata": {},
   "outputs": [],
   "source": [
    "# This program demonstrates an argument being passed to a function\n",
    "# The times_ten function accepts an argument and displays the value times 10\n",
    "# Call to the main function."
   ]
  },
  {
   "cell_type": "code",
   "execution_count": 3,
   "id": "1bb97dbc",
   "metadata": {},
   "outputs": [
    {
     "name": "stdout",
     "output_type": "stream",
     "text": [
      "Enter a number: 250\n",
      "Here is your number (250) multiplied by ten: 2500\n"
     ]
    }
   ],
   "source": [
    "# user enters a number to be multiplied by ten\n",
    "def main():\n",
    "    value = int(input('Enter a number: '))\n",
    "    times_ten(value)\n",
    "    \n",
    "# The times_ten function accepts an argument and displays the value times 10\n",
    "def times_ten(number):\n",
    "    value = number * 10\n",
    "    print(f'Here is your number ({number}) multiplied by ten: {value}')\n",
    "main()"
   ]
  },
  {
   "cell_type": "markdown",
   "id": "fff17cfe",
   "metadata": {},
   "source": [
    "# ALGORITHM WORKBENCH"
   ]
  },
  {
   "cell_type": "markdown",
   "id": "1d77fe51",
   "metadata": {},
   "source": [
    "###### QUESTION 4"
   ]
  },
  {
   "cell_type": "code",
   "execution_count": 4,
   "id": "41a1d412",
   "metadata": {},
   "outputs": [],
   "source": [
    "# WHAT WILL THE FOLLOWING PROGRAM DISPLAY?\n",
    "# ENTERING THE PROGRAM CODE TO SEE WHAT IT WILL DISPLAY"
   ]
  },
  {
   "cell_type": "code",
   "execution_count": 5,
   "id": "4a3eee28",
   "metadata": {},
   "outputs": [],
   "source": [
    "# This program demonstrates what happens when you change the value of a parameter"
   ]
  },
  {
   "cell_type": "code",
   "execution_count": 6,
   "id": "7e7e31fc",
   "metadata": {},
   "outputs": [
    {
     "name": "stdout",
     "output_type": "stream",
     "text": [
      "The value is (1, 3.4).\n",
      "I am changine the value.\n",
      "Now the value is (0, 0).\n",
      "Back in main the value is (1, 3.4).\n"
     ]
    }
   ],
   "source": [
    "def main():\n",
    "    x = 1\n",
    "    y = 3.4\n",
    "    print(f'The value is {x, y}.')\n",
    "    change_us(x, y)\n",
    "    print(f'Back in main the value is {x, y}.')\n",
    "def change_us(a, b):\n",
    "    print('I am changine the value.')\n",
    "    a = 0\n",
    "    b = 0\n",
    "    print(f'Now the value is {a, b}.')\n",
    "main()"
   ]
  },
  {
   "cell_type": "markdown",
   "id": "fdef8e6b",
   "metadata": {},
   "source": [
    "# PROGRAMMING EXERCISE 1 - KILOMETER CONVERTER\n",
    "###### Write a program that asks the user to enter a distance in kilometers, then converts that distance to miles."
   ]
  },
  {
   "cell_type": "code",
   "execution_count": 8,
   "id": "1547e995",
   "metadata": {},
   "outputs": [],
   "source": [
    "# Ask the user to to enter the distance in kilometers\n",
    "# convert kiolmters to miles using the conversion formula - miles = kilomters x 0.6214\n",
    "# Display the results"
   ]
  },
  {
   "cell_type": "code",
   "execution_count": 9,
   "id": "d516510e",
   "metadata": {},
   "outputs": [],
   "source": [
    "# Ask the user to enter the distance in kilomters\n",
    "def main():\n",
    "    kilometers = float(input('Enter the distance in kilometers: '))\n",
    "    kilometers_to_miles()"
   ]
  },
  {
   "cell_type": "code",
   "execution_count": 10,
   "id": "297b13d0",
   "metadata": {},
   "outputs": [],
   "source": [
    "def kilometers_to_miles(distance_in_kilometers):\n",
    "    miles = distance_in_kilometers * 0.6214\n",
    "    print('Entered distance in miles is', (miles, '.2f'), 'miles')"
   ]
  },
  {
   "cell_type": "code",
   "execution_count": 11,
   "id": "d1e412e3",
   "metadata": {},
   "outputs": [
    {
     "name": "stdout",
     "output_type": "stream",
     "text": [
      "Enter the distance in kilometers: 485\n"
     ]
    },
    {
     "ename": "TypeError",
     "evalue": "kilometers_to_miles() missing 1 required positional argument: 'distance_in_kilometers'",
     "output_type": "error",
     "traceback": [
      "\u001b[1;31m---------------------------------------------------------------------------\u001b[0m",
      "\u001b[1;31mTypeError\u001b[0m                                 Traceback (most recent call last)",
      "Cell \u001b[1;32mIn[11], line 1\u001b[0m\n\u001b[1;32m----> 1\u001b[0m main()\n",
      "Cell \u001b[1;32mIn[9], line 4\u001b[0m, in \u001b[0;36mmain\u001b[1;34m()\u001b[0m\n\u001b[0;32m      2\u001b[0m \u001b[38;5;28;01mdef\u001b[39;00m \u001b[38;5;21mmain\u001b[39m():\n\u001b[0;32m      3\u001b[0m     kilometers \u001b[38;5;241m=\u001b[39m \u001b[38;5;28mfloat\u001b[39m(\u001b[38;5;28minput\u001b[39m(\u001b[38;5;124m'\u001b[39m\u001b[38;5;124mEnter the distance in kilometers: \u001b[39m\u001b[38;5;124m'\u001b[39m))\n\u001b[1;32m----> 4\u001b[0m     kilometers_to_miles()\n",
      "\u001b[1;31mTypeError\u001b[0m: kilometers_to_miles() missing 1 required positional argument: 'distance_in_kilometers'"
     ]
    }
   ],
   "source": [
    "main()"
   ]
  },
  {
   "cell_type": "code",
   "execution_count": null,
   "id": "d25ee74b",
   "metadata": {},
   "outputs": [],
   "source": []
  }
 ],
 "metadata": {
  "kernelspec": {
   "display_name": "Python 3 (ipykernel)",
   "language": "python",
   "name": "python3"
  },
  "language_info": {
   "codemirror_mode": {
    "name": "ipython",
    "version": 3
   },
   "file_extension": ".py",
   "mimetype": "text/x-python",
   "name": "python",
   "nbconvert_exporter": "python",
   "pygments_lexer": "ipython3",
   "version": "3.11.4"
  }
 },
 "nbformat": 4,
 "nbformat_minor": 5
}
