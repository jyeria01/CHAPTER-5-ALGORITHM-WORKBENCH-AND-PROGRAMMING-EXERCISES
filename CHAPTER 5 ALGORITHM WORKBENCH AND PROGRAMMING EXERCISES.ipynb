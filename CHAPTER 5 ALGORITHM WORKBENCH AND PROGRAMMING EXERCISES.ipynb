{
 "cells": [
  {
   "cell_type": "markdown",
   "id": "210e532e",
   "metadata": {},
   "source": [
    "# ALGORITHM WORKBENCH"
   ]
  },
  {
   "cell_type": "markdown",
   "id": "6e4b530e",
   "metadata": {},
   "source": [
    "###### QUESTION 1"
   ]
  },
  {
   "cell_type": "code",
   "execution_count": 1,
   "id": "45f00e0a",
   "metadata": {},
   "outputs": [],
   "source": [
    "# WRITE A FUNCTION NAMED times_ten. \n",
    "# THE FUNCTION SHOULD ACCEPT AN ARGUMENT AND DISPLAY THE PRODUCT OF ITS ARGUMENT MULTIPLIED TIME 10"
   ]
  },
  {
   "cell_type": "code",
   "execution_count": 2,
   "id": "3cfc9998",
   "metadata": {},
   "outputs": [],
   "source": [
    "# This program demonstrates an argument being passed to a function\n",
    "# The times_ten function accepts an argument and displays the value times 10\n",
    "# Call to the main function."
   ]
  },
  {
   "cell_type": "code",
   "execution_count": 3,
   "id": "89123fa4",
   "metadata": {},
   "outputs": [
    {
     "name": "stdout",
     "output_type": "stream",
     "text": [
      "Enter a number: 45\n",
      "Here is your number (45) multiplied by ten: 450\n"
     ]
    }
   ],
   "source": [
    "# user enters a number to be multiplied by ten\n",
    "def main():\n",
    "    value = int(input('Enter a number: '))\n",
    "    times_ten(value)\n",
    "    \n",
    "# The times_ten function accepts an argument and displays the value times 10\n",
    "def times_ten(number):\n",
    "    value = number * 10\n",
    "    print(f'Here is your number ({number}) multiplied by ten: {value}')\n",
    "main()"
   ]
  },
  {
   "cell_type": "markdown",
   "id": "b83530e8",
   "metadata": {},
   "source": [
    "# ALGORITHM WORKBENCH"
   ]
  },
  {
   "cell_type": "markdown",
   "id": "babd4bee",
   "metadata": {},
   "source": [
    "###### QUESTION 4"
   ]
  },
  {
   "cell_type": "code",
   "execution_count": 4,
   "id": "69d519e1",
   "metadata": {},
   "outputs": [],
   "source": [
    "# WHAT WILL THE FOLLOWING PROGRAM DISPLAY?\n",
    "# ENTERING THE PROGRAM CODE TO SEE WHAT IT WILL DISPLAY"
   ]
  },
  {
   "cell_type": "code",
   "execution_count": 5,
   "id": "b5082c8f",
   "metadata": {},
   "outputs": [],
   "source": [
    "# This program demonstrates what happens when you change the value of a parameter"
   ]
  },
  {
   "cell_type": "code",
   "execution_count": 6,
   "id": "c0114360",
   "metadata": {},
   "outputs": [
    {
     "name": "stdout",
     "output_type": "stream",
     "text": [
      "The value is (1, 3.4).\n",
      "I am changine the value.\n",
      "Now the value is (0, 0).\n",
      "Back in main the value is (1, 3.4).\n"
     ]
    }
   ],
   "source": [
    "def main():\n",
    "    x = 1\n",
    "    y = 3.4\n",
    "    print(f'The value is {x, y}.')\n",
    "    change_us(x, y)\n",
    "    print(f'Back in main the value is {x, y}.')\n",
    "def change_us(a, b):\n",
    "    print('I am changine the value.')\n",
    "    a = 0\n",
    "    b = 0\n",
    "    print(f'Now the value is {a, b}.')\n",
    "main()"
   ]
  },
  {
   "cell_type": "markdown",
   "id": "bf75af75",
   "metadata": {},
   "source": [
    "# PROGRAMMING EXERCISE 1 - KILOMETER CONVERTER\n",
    "###### Write a program that asks the user to enter a distance in kilometers, then converts that distance to miles."
   ]
  },
  {
   "cell_type": "code",
   "execution_count": 7,
   "id": "f99d79ea",
   "metadata": {},
   "outputs": [],
   "source": [
    "# Ask the user to to enter the distance in kilometers\n",
    "# convert kilometers to miles using the conversion formula - miles = kilomters x 0.6214\n",
    "# Display the results"
   ]
  },
  {
   "cell_type": "code",
   "execution_count": 8,
   "id": "1afd2b0e",
   "metadata": {},
   "outputs": [
    {
     "name": "stdout",
     "output_type": "stream",
     "text": [
      "Enter the distance in kilometers: 125\n",
      "Entered distance in miles is 77.67 miles\n"
     ]
    }
   ],
   "source": [
    "# Ask the user to enter the distance in kilomters\n",
    "def main():\n",
    "    kilometers = float(input('Enter the distance in kilometers: '))\n",
    "    kilometers_to_miles(kilometers)\n",
    "    \n",
    "# convert kilometers to miles using the conversion formula - miles = kilomters x 0.6214\n",
    "def kilometers_to_miles(distance_in_kilometers):\n",
    "    miles = distance_in_kilometers * 0.6214\n",
    "    print(f'Entered distance in miles is {miles:.2f} miles')\n",
    "# Display converter results\n",
    "main()"
   ]
  },
  {
   "cell_type": "markdown",
   "id": "a514fe78",
   "metadata": {},
   "source": [
    "# PROGRAMMING EXERCISE 17 - PRIME NUMBERS\n",
    "######  A prime number is a number that is only evenly divisible by itself and 1. For example, the number 5 is a prime because \n",
    "###### it can only be evenly divided by 1 and 5. The number 6, howver, is not a prime because it can be divided evenly\n",
    "###### by 1,2, 3, and 6\n",
    "######  Write a boolean function named is_prime which takes an integer as an argument and returns true if the argument is a\n",
    "###### a message indicating whether the number is prime."
   ]
  },
  {
   "cell_type": "code",
   "execution_count": 1,
   "id": "80d1b59e",
   "metadata": {},
   "outputs": [],
   "source": [
    "# INPUT NUMBER LESS OR EQUAL TO 1 RETURN FALSE\n",
    "# INPUT NUMBER IS 2 OR 3 RETURN TRUE\n",
    "# INPUT NUMBER DIVISIBLE BY 2 OR 3 RETURN FALSE\n",
    "# DISPLAY RESULTS"
   ]
  },
  {
   "cell_type": "code",
   "execution_count": 1,
   "id": "5e0b27de",
   "metadata": {},
   "outputs": [
    {
     "name": "stdout",
     "output_type": "stream",
     "text": [
      "Please number an integer to test for prime: 7\n",
      "This is a prime number!\n"
     ]
    }
   ],
   "source": [
    "# Get the number from the user to check for prime\n",
    "def main():\n",
    "    number = int(input('Please number an integer to test for prime: '))\n",
    "    \n",
    "# Print if the number entered is a prime number or is not a prime number    \n",
    "    if is_prime(number):\n",
    "        print('This is a prime number!')\n",
    "    else:\n",
    "        print('This is not a prime number!')\n",
    "\n",
    "# Define prime number\n",
    "import math\n",
    "\n",
    "def is_prime(number):\n",
    "    for i in range(2, number):\n",
    "        if number % i == 0:\n",
    "            return False\n",
    "    return True\n",
    "\n",
    "# Call to the main function\n",
    "main()"
   ]
  },
  {
   "cell_type": "markdown",
   "id": "9a921fcd",
   "metadata": {},
   "source": [
    "# PROGRAMMING EXERCISE 18 - PRIME NUMBER LIST\n",
    "##### Write another program that displays all of the prime numbers from 1 to 100 the program should have a loop that calls the is_prime function"
   ]
  },
  {
   "cell_type": "code",
   "execution_count": 3,
   "id": "335ddb99",
   "metadata": {},
   "outputs": [],
   "source": [
    "# Use exercise 17 to define is_prime\n",
    "# main function Display all prime numbers 1 to 100"
   ]
  },
  {
   "cell_type": "code",
   "execution_count": 14,
   "id": "cb25bc9b",
   "metadata": {},
   "outputs": [
    {
     "name": "stdout",
     "output_type": "stream",
     "text": [
      "1\n",
      "2\n",
      "3\n",
      "5\n",
      "7\n",
      "11\n",
      "13\n",
      "17\n",
      "19\n",
      "23\n",
      "29\n",
      "31\n",
      "37\n",
      "41\n",
      "43\n",
      "47\n",
      "53\n",
      "59\n",
      "61\n",
      "67\n",
      "71\n",
      "73\n",
      "79\n",
      "83\n",
      "89\n",
      "97\n",
      "Prime numbers from 1 to 100:\n"
     ]
    }
   ],
   "source": [
    "# Define main function for prime numbers in range 1 to 100\n",
    "def main():\n",
    "    for number in range(1, 101):\n",
    "        if is_prime(number):\n",
    "            print(number)\n",
    "    print('Prime numbers from 1 to 100:')\n",
    "\n",
    "# is_prime function from exercise 17\n",
    "import math\n",
    "\n",
    "def is_prime(number):\n",
    "    for i in range(2, number):\n",
    "        if number % i == 0:\n",
    "            return False\n",
    "    return True\n",
    "main()"
   ]
  },
  {
   "cell_type": "markdown",
   "id": "09a7ef80",
   "metadata": {},
   "source": [
    "# PROGRAMMING EXERCISE 4 - AUTOMOBILE COST CHAPTER 5\n",
    "###### Write a program that asks the user to enter the monthly costs for the following expenses incurred from operating his or her automobile: Loan payment, insurance, gas, oil, tires, and maintenance.  The program should then display the total monthly cost of these expenses, and the total annual cost of these expenses."
   ]
  },
  {
   "cell_type": "code",
   "execution_count": 18,
   "id": "ef7394bc",
   "metadata": {},
   "outputs": [],
   "source": [
    "# Get monthly expenses from the user\n",
    "# Calculate total monthly cost\n",
    "# Calculate annual cost\n",
    "# Display results"
   ]
  },
  {
   "cell_type": "code",
   "execution_count": 2,
   "id": "387dc044",
   "metadata": {},
   "outputs": [],
   "source": [
    "# Monthly expenses from the user\n",
    "def main():\n",
    "    loan = float(input('Enter monthly automobile loan payment: $'))\n",
    "    insurance = float(input('Enter monthly insurance cost: $'))\n",
    "    gas = float(input('Enter monthly gas expense: $'))\n",
    "    oil = float(input('Enter monthly oil expense: $'))\n",
    "    tires = float(input('Enter monthly tire expense: $'))\n",
    "    maintenance = float(input('Enter monthly maintenance expense: $'))"
   ]
  },
  {
   "cell_type": "code",
   "execution_count": 3,
   "id": "8be48ae5",
   "metadata": {},
   "outputs": [
    {
     "ename": "IndentationError",
     "evalue": "unexpected indent (1460094421.py, line 2)",
     "output_type": "error",
     "traceback": [
      "\u001b[1;36m  Cell \u001b[1;32mIn[3], line 2\u001b[1;36m\u001b[0m\n\u001b[1;33m    monthly_cost = loan + insurance + gas + oil + tires + maintenance\u001b[0m\n\u001b[1;37m    ^\u001b[0m\n\u001b[1;31mIndentationError\u001b[0m\u001b[1;31m:\u001b[0m unexpected indent\n"
     ]
    }
   ],
   "source": [
    " # Calculate total monthly cost\n",
    "    monthly_cost = loan + insurance + gas + oil + tires + maintenance"
   ]
  },
  {
   "cell_type": "code",
   "execution_count": 3,
   "id": "5d46d8d4",
   "metadata": {},
   "outputs": [
    {
     "ename": "NameError",
     "evalue": "name 'monthly_cost' is not defined",
     "output_type": "error",
     "traceback": [
      "\u001b[1;31m---------------------------------------------------------------------------\u001b[0m",
      "\u001b[1;31mNameError\u001b[0m                                 Traceback (most recent call last)",
      "Cell \u001b[1;32mIn[3], line 2\u001b[0m\n\u001b[0;32m      1\u001b[0m \u001b[38;5;66;03m# calculate the total annual cost\u001b[39;00m\n\u001b[1;32m----> 2\u001b[0m annual_cost \u001b[38;5;241m=\u001b[39m monthly_cost \u001b[38;5;241m*\u001b[39m \u001b[38;5;241m12\u001b[39m\n",
      "\u001b[1;31mNameError\u001b[0m: name 'monthly_cost' is not defined"
     ]
    }
   ],
   "source": [
    "# calculate the total annual cost\n",
    "    annual_cost = monthly_cost * 12"
   ]
  },
  {
   "cell_type": "code",
   "execution_count": 4,
   "id": "55edcaa7",
   "metadata": {},
   "outputs": [
    {
     "ename": "NameError",
     "evalue": "name 'monthly_cost' is not defined",
     "output_type": "error",
     "traceback": [
      "\u001b[1;31m---------------------------------------------------------------------------\u001b[0m",
      "\u001b[1;31mNameError\u001b[0m                                 Traceback (most recent call last)",
      "Cell \u001b[1;32mIn[4], line 1\u001b[0m\n\u001b[1;32m----> 1\u001b[0m \u001b[38;5;28mprint\u001b[39m(\u001b[38;5;124mf\u001b[39m\u001b[38;5;124m'\u001b[39m\u001b[38;5;124mTotal Monthly Cost: $\u001b[39m\u001b[38;5;132;01m{\u001b[39;00mmonthly_cost\u001b[38;5;132;01m:\u001b[39;00m\u001b[38;5;124m.2f\u001b[39m\u001b[38;5;132;01m}\u001b[39;00m\u001b[38;5;124m'\u001b[39m)\n",
      "\u001b[1;31mNameError\u001b[0m: name 'monthly_cost' is not defined"
     ]
    }
   ],
   "source": [
    "     print(f'Total Monthly Cost: ${monthly_cost:.2f}')"
   ]
  },
  {
   "cell_type": "code",
   "execution_count": 5,
   "id": "89784f36",
   "metadata": {},
   "outputs": [
    {
     "name": "stdout",
     "output_type": "stream",
     "text": [
      "Enter monthly automobile loan payment: $200\n",
      "Enter monthly insurance cost: $200\n",
      "Enter monthly gas expense: $200\n",
      "Enter monthly oil expense: $200\n",
      "Enter monthly tire expense: $200\n",
      "Enter monthly maintenance expense: $200\n"
     ]
    }
   ],
   "source": [
    "main()"
   ]
  },
  {
   "cell_type": "code",
   "execution_count": null,
   "id": "3d6ab4a2",
   "metadata": {},
   "outputs": [],
   "source": []
  }
 ],
 "metadata": {
  "kernelspec": {
   "display_name": "Python 3 (ipykernel)",
   "language": "python",
   "name": "python3"
  },
  "language_info": {
   "codemirror_mode": {
    "name": "ipython",
    "version": 3
   },
   "file_extension": ".py",
   "mimetype": "text/x-python",
   "name": "python",
   "nbconvert_exporter": "python",
   "pygments_lexer": "ipython3",
   "version": "3.11.4"
  }
 },
 "nbformat": 4,
 "nbformat_minor": 5
}
