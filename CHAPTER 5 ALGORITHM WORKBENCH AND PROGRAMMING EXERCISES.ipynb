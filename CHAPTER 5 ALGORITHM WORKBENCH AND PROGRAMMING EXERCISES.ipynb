{
 "cells": [
  {
   "cell_type": "markdown",
   "id": "cd057f70",
   "metadata": {},
   "source": [
    "# ALGORITHM WORKBENCH"
   ]
  },
  {
   "cell_type": "markdown",
   "id": "a8c064c1",
   "metadata": {},
   "source": [
    "###### QUESTION 1"
   ]
  },
  {
   "cell_type": "code",
   "execution_count": 1,
   "id": "0f8c1121",
   "metadata": {},
   "outputs": [],
   "source": [
    "# WRITE A FUNCTION NAMED times_ten. \n",
    "# THE FUNCTION SHOULD ACCEPT AN ARGUMENT AND DISPLAY THE PRODUCT OF ITS ARGUMENT MULTIPLIED TIME 10"
   ]
  },
  {
   "cell_type": "code",
   "execution_count": 2,
   "id": "0828fff2",
   "metadata": {},
   "outputs": [],
   "source": [
    "# This program demonstrates an argument being passed to a function\n",
    "# The times_ten function accepts an argument and displays the value times 10\n",
    "# Call to the main function."
   ]
  },
  {
   "cell_type": "code",
   "execution_count": 3,
   "id": "16920a26",
   "metadata": {},
   "outputs": [],
   "source": [
    "def main():\n",
    "    # user enter a number\n",
    "    number = int(inputer('Enter a number: '))"
   ]
  },
  {
   "cell_type": "code",
   "execution_count": null,
   "id": "69a23865",
   "metadata": {},
   "outputs": [],
   "source": []
  }
 ],
 "metadata": {
  "kernelspec": {
   "display_name": "Python 3 (ipykernel)",
   "language": "python",
   "name": "python3"
  },
  "language_info": {
   "codemirror_mode": {
    "name": "ipython",
    "version": 3
   },
   "file_extension": ".py",
   "mimetype": "text/x-python",
   "name": "python",
   "nbconvert_exporter": "python",
   "pygments_lexer": "ipython3",
   "version": "3.11.4"
  }
 },
 "nbformat": 4,
 "nbformat_minor": 5
}
