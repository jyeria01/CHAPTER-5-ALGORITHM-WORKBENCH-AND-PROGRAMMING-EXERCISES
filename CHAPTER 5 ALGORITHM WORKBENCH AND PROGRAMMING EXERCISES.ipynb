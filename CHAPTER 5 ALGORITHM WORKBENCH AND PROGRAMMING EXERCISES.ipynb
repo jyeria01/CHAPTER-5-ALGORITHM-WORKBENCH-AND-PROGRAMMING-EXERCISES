{
 "cells": [
  {
   "cell_type": "markdown",
   "id": "25b9d609",
   "metadata": {},
   "source": [
    "# ALGORITHM WORKBENCH"
   ]
  },
  {
   "cell_type": "markdown",
   "id": "72f0f377",
   "metadata": {},
   "source": [
    "###### QUESTION 1"
   ]
  },
  {
   "cell_type": "code",
   "execution_count": 1,
   "id": "bb63713b",
   "metadata": {},
   "outputs": [],
   "source": [
    "# WRITE A FUNCTION NAMED times_ten. \n",
    "# THE FUNCTION SHOULD ACCEPT AN ARGUMENT AND DISPLAY THE PRODUCT OF ITS ARGUMENT MULTIPLIED TIME 10"
   ]
  },
  {
   "cell_type": "code",
   "execution_count": 2,
   "id": "c64bfe5b",
   "metadata": {},
   "outputs": [],
   "source": [
    "# This program demonstrates an argument being passed to a function\n",
    "# The times_ten function accepts an argument and displays the value times 10\n",
    "# Call to the main function."
   ]
  },
  {
   "cell_type": "code",
   "execution_count": 3,
   "id": "104094fc",
   "metadata": {},
   "outputs": [
    {
     "ename": "IndentationError",
     "evalue": "expected an indented block after function definition on line 2 (817155265.py, line 4)",
     "output_type": "error",
     "traceback": [
      "\u001b[1;36m  Cell \u001b[1;32mIn[3], line 4\u001b[1;36m\u001b[0m\n\u001b[1;33m    value = int(input('Enter a number: '))\u001b[0m\n\u001b[1;37m    ^\u001b[0m\n\u001b[1;31mIndentationError\u001b[0m\u001b[1;31m:\u001b[0m expected an indented block after function definition on line 2\n"
     ]
    }
   ],
   "source": [
    "def times_ten(number):\n",
    "    def main():\n",
    "    # user enter a number\n",
    "    value = int(input('Enter a number: '))\n",
    "    times_ten(value)"
   ]
  },
  {
   "cell_type": "code",
   "execution_count": null,
   "id": "60f4cf24",
   "metadata": {},
   "outputs": [],
   "source": [
    "# The times_ten function accepts an argument and displays the value times 10\n",
    "product = value * 10"
   ]
  },
  {
   "cell_type": "code",
   "execution_count": null,
   "id": "8d76fd82",
   "metadata": {},
   "outputs": [],
   "source": [
    "def times_ten((number):\n",
    "              result = number * 10\n",
    "              print(result)"
   ]
  },
  {
   "cell_type": "code",
   "execution_count": null,
   "id": "efd1021e",
   "metadata": {},
   "outputs": [],
   "source": [
    "# Call the main function\n",
    "main()"
   ]
  },
  {
   "cell_type": "code",
   "execution_count": null,
   "id": "acaeab0e",
   "metadata": {},
   "outputs": [],
   "source": []
  }
 ],
 "metadata": {
  "kernelspec": {
   "display_name": "Python 3 (ipykernel)",
   "language": "python",
   "name": "python3"
  },
  "language_info": {
   "codemirror_mode": {
    "name": "ipython",
    "version": 3
   },
   "file_extension": ".py",
   "mimetype": "text/x-python",
   "name": "python",
   "nbconvert_exporter": "python",
   "pygments_lexer": "ipython3",
   "version": "3.11.4"
  }
 },
 "nbformat": 4,
 "nbformat_minor": 5
}
